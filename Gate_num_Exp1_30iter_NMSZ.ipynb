{
  "nbformat": 4,
  "nbformat_minor": 0,
  "metadata": {
    "colab": {
      "provenance": []
    },
    "kernelspec": {
      "name": "python3",
      "display_name": "Python 3"
    },
    "language_info": {
      "name": "python"
    }
  },
  "cells": [
    {
      "cell_type": "code",
      "execution_count": 1,
      "metadata": {
        "colab": {
          "base_uri": "https://localhost:8080/"
        },
        "id": "VPb1945usGYb",
        "outputId": "490530b6-0cb2-4bd1-85cb-e0d49058159a"
      },
      "outputs": [
        {
          "output_type": "stream",
          "name": "stdout",
          "text": [
            "Collecting pamda\n",
            "  Downloading pamda-2.5.0-py3-none-any.whl.metadata (5.4 kB)\n",
            "Collecting type-enforced>=1.2.0 (from pamda)\n",
            "  Downloading type_enforced-1.7.0-py3-none-any.whl.metadata (11 kB)\n",
            "Downloading pamda-2.5.0-py3-none-any.whl (18 kB)\n",
            "Downloading type_enforced-1.7.0-py3-none-any.whl (12 kB)\n",
            "Installing collected packages: type-enforced, pamda\n",
            "Successfully installed pamda-2.5.0 type-enforced-1.7.0\n"
          ]
        }
      ],
      "source": [
        "!pip install pamda"
      ]
    },
    {
      "cell_type": "code",
      "source": [
        "from google.colab import drive\n",
        "drive.mount('fema-fl-data-SR_Branch')"
      ],
      "metadata": {
        "colab": {
          "base_uri": "https://localhost:8080/"
        },
        "id": "rlf2G9KBsRdV",
        "outputId": "de92214a-51e5-4485-9c0f-059ed023a929"
      },
      "execution_count": 2,
      "outputs": [
        {
          "output_type": "stream",
          "name": "stdout",
          "text": [
            "Mounted at fema-fl-data-SR_Branch\n"
          ]
        }
      ]
    },
    {
      "cell_type": "code",
      "source": [
        "!pip install /content/fema-fl-data-SR_Branch/MyDrive/GitHub/fema-fl-data-SR_Branch/fema_model"
      ],
      "metadata": {
        "colab": {
          "base_uri": "https://localhost:8080/",
          "height": 443
        },
        "id": "wI2bWqvzsXhn",
        "outputId": "adb3809a-13d2-441e-b03b-5970a3e666a5"
      },
      "execution_count": 5,
      "outputs": [
        {
          "output_type": "stream",
          "name": "stdout",
          "text": [
            "Processing ./fema-fl-data-SR_Branch/MyDrive/GitHub/fema-fl-data-SR_Branch/fema_model\n",
            "  Preparing metadata (setup.py) ... \u001b[?25l\u001b[?25hdone\n",
            "Collecting pamda==0.0.10 (from fema_model==0.1)\n",
            "  Downloading pamda-0.0.10.tar.gz (9.8 kB)\n",
            "  Preparing metadata (setup.py) ... \u001b[?25l\u001b[?25hdone\n",
            "Building wheels for collected packages: fema_model, pamda\n",
            "  Building wheel for fema_model (setup.py) ... \u001b[?25l\u001b[?25hdone\n",
            "  Created wheel for fema_model: filename=fema_model-0.1-py3-none-any.whl size=11298 sha256=982150d0f1f8ac935aa2c75b1d59c63f5180ff338ae8e198ff44a9e08173ee2b\n",
            "  Stored in directory: /tmp/pip-ephem-wheel-cache-j5ckv7x0/wheels/e3/fa/91/be2874dba7a6cd1488352befd13bfec88293e3c87af703ad73\n",
            "  Building wheel for pamda (setup.py) ... \u001b[?25l\u001b[?25hdone\n",
            "  Created wheel for pamda: filename=pamda-0.0.10-py3-none-any.whl size=10791 sha256=122b6e60c760a1626368d4febf207346700268f7b59118c2cf6d5a8b5035594d\n",
            "  Stored in directory: /root/.cache/pip/wheels/5b/5d/e2/c7497121708bb3d7bab3de1914561fb78b09331b697fed59cc\n",
            "Successfully built fema_model pamda\n",
            "Installing collected packages: pamda, fema_model\n",
            "  Attempting uninstall: pamda\n",
            "    Found existing installation: pamda 2.5.0\n",
            "    Uninstalling pamda-2.5.0:\n",
            "      Successfully uninstalled pamda-2.5.0\n",
            "Successfully installed fema_model-0.1 pamda-0.0.10\n"
          ]
        },
        {
          "output_type": "display_data",
          "data": {
            "application/vnd.colab-display-data+json": {
              "pip_warning": {
                "packages": [
                  "fema_model",
                  "pamda"
                ]
              },
              "id": "58345ed02dc64d8caae8d5b3b6f4f82d"
            }
          },
          "metadata": {}
        }
      ]
    },
    {
      "cell_type": "code",
      "source": [
        "import sys\n",
        "sys.path.append('/content/fema-fl-data-SR_Branch/MyDrive/GitHub/fema-fl-data-SR_Branch')\n",
        "import sys\n",
        "sys.path.append('/content/fema-fl-data-SR_Branch/MyDrive/GitHub/fema-fl-data-Dependency_Files')\n",
        "import sys\n",
        "sys.path.append('/content/fema-fl-data-SR_Branch/MyDrive/GitHub/fema-fl-data-main')"
      ],
      "metadata": {
        "id": "-5UvlOiVsewk"
      },
      "execution_count": 1,
      "outputs": []
    },
    {
      "cell_type": "code",
      "source": [
        "from pamda import pamda as p\n",
        "from fema_model import Multi_Period_Terminal_System\n",
        "import pandas as pd\n",
        "import random\n",
        "from tqdm import tqdm\n",
        "import numpy as np\n",
        "from scipy import stats\n",
        "import requests\n",
        "import json\n",
        "from statsmodels.stats.weightstats import DescrStatsW"
      ],
      "metadata": {
        "id": "irJIXMbGskB3"
      },
      "execution_count": 2,
      "outputs": []
    },
    {
      "cell_type": "code",
      "source": [
        "# first drop the \"geo_areas.json\" to the files\n",
        "geo_areas = p.read_json('./geo_areas.json')"
      ],
      "metadata": {
        "id": "RTcd6IFyspPx"
      },
      "execution_count": 4,
      "outputs": []
    },
    {
      "cell_type": "code",
      "source": [
        "# Numeric experiments for single sample terminal with different structure parameters\n",
        "# Gate interventions\n",
        "\n",
        "# Fixed parameters\n",
        "\n",
        "# Number of gates\n",
        "n_g = [1,2,3]\n",
        "# Number of bays\n",
        "n_b = [1,2,3,4,5,6,7,8,9,10,11,12,13,14,15]\n",
        "# Station distances (miles)\n",
        "d = [25,50,100,150,200,300]\n",
        "# Number of stations\n",
        "S = 435\n",
        "# Bay queue space\n",
        "b_q = 3\n",
        "\n",
        "# Time to empty fuel at station (mins)\n",
        "r_s = 60\n",
        "# Bounds of time to empty fuel at station (mins)\n",
        "r_s_bound = 10\n",
        "# Truck start time max (hrs)\n",
        "a = 6\n",
        "# Truck capacity (gallons)\n",
        "c = 9000\n",
        "# Truck stopping criteria (hr)\n",
        "tau = 0.5\n",
        "\n",
        "# Flexible parameters\n",
        "\n",
        "# Gate check-in time (mins)\n",
        "r_g = [1,2,3,4,5,6,7,8,9,10,15,20]\n",
        "# Bounds multiplier of gate check-in time (mins)\n",
        "r_g_bound = 0.1\n",
        "# Bay filling time (mins)\n",
        "r_b = 35\n",
        "# Bounds multiplier of bay filling time (mins)\n",
        "r_b_bound = 0.1\n",
        "# Truck speed (mph)\n",
        "v = 45\n",
        "# Bounds multiplier of truck speed (mph)\n",
        "v_bound = 0.1\n",
        "# Hours of service (hrs)\n",
        "h = 14\n",
        "# Fleet size (trucks)\n",
        "f = 50\n",
        "\n",
        "# Iterations\n",
        "itrn = 30\n",
        "\n",
        "# Final outputs for all experiments\n",
        "ops_df = pd.DataFrame(columns = ['Iteration', 'Gates', 'Bays', 'Station_Dist', 'Gate_Time', \\\n",
        "                                 'Flow', 'Trips_Per_Truck', 'Gate_Queue_Wait', 'Driving_Time'])\n",
        "\n",
        "# Input kwargs\n",
        "inputs = {\n",
        "    'carry_over_demand_multiplier':0,\n",
        "    'default_kwargs':{\n",
        "        'demand_situation':'dem_scen_1',\n",
        "        'demand_multiplier':1,\n",
        "        'truck_multiplier':1,\n",
        "        'station_algorithm':'max',\n",
        "        'truck_kwargs':{\n",
        "            'size':c,\n",
        "            'speed':v,\n",
        "            'speed_sigma':v*v_bound,\n",
        "            'empty_rate':r_s,\n",
        "            'empty_rate_sigma':r_s_bound,\n",
        "            'open_time_min':0,\n",
        "            'open_time_max':a,\n",
        "            'close_time_after_open':h,\n",
        "            'close_early_delta':tau\n",
        "        },\n",
        "        'station_kwargs':{\n",
        "            'open_time':0,\n",
        "            'close_time':24,\n",
        "        },\n",
        "        'terminal_kwargs':{\n",
        "            'gate_kwargs':{\n",
        "                # 'gate_rate':7,\n",
        "                # 'gate_rate_sigma':7*r_g_bound,\n",
        "                'open_time':0,\n",
        "                'close_time':24,\n",
        "                'extra_gates':0,\n",
        "                'max_gate_queue':None, #Infinite\n",
        "                'share_gate_queue_bool':True\n",
        "            },\n",
        "            'bay_kwargs':{\n",
        "                'open_time':0,\n",
        "                'close_time':24,\n",
        "                'fill_rate':r_b,\n",
        "                'fill_rate_sigma':r_b*r_b_bound,\n",
        "                'extra_bays':0,\n",
        "                'max_bay_queue':b_q,\n",
        "                'share_bay_queue_bool':True\n",
        "            }\n",
        "        }\n",
        "    }\n",
        "}\n",
        "\n",
        "# Create terminal system dictionary\n",
        "terminal_system_data = {}\n",
        "terminal_system_data['group1'] = {}\n",
        "terminal_system_data['group1']['trucks_available'] = f\n",
        "terminal_system_data['group1']['terminals'] = {}\n",
        "terminal_system_data['group1']['terminals']['terminal1'] = {}\n",
        "terminal_system_data['group1']['terminals']['terminal1']['fuel_types'] = 'a'\n",
        "\n",
        "# Index of ops_df\n",
        "q = 0"
      ],
      "metadata": {
        "id": "Xzdixvk7ssJy"
      },
      "execution_count": 6,
      "outputs": []
    },
    {
      "cell_type": "code",
      "source": [
        "for i in tqdm(range(len(n_g))):\n",
        "    terminal_system_data['group1']['terminals']['terminal1']['num_gates'] = n_g[i]\n",
        "    for j in tqdm(range(len(n_b))):\n",
        "        terminal_system_data['group1']['terminals']['terminal1']['num_bays'] = n_b[j]\n",
        "        for k in range(len(d)):\n",
        "            for l in range(itrn):\n",
        "                # Create stations list\n",
        "                terminal_system_data['group1']['stations'] = {}\n",
        "                for m in range(S):\n",
        "                    station_name = 's'+str(m)\n",
        "                    terminal_system_data['group1']['stations'][station_name] = {}\n",
        "                    terminal_system_data['group1']['stations'][station_name]['travel_distance'] = round(random.uniform(0.01,d[k]),3)\n",
        "                    terminal_system_data['group1']['stations'][station_name]['geo_code'] = '1'\n",
        "                    terminal_system_data['group1']['stations'][station_name]['demand_scenarios'] = {}\n",
        "                    terminal_system_data['group1']['stations'][station_name]['demand_scenarios']['dem_scen_1'] = {}\n",
        "                    terminal_system_data['group1']['stations'][station_name]['demand_scenarios']['dem_scen_1']['demand'] = c\n",
        "                    terminal_system_data['group1']['stations'][station_name]['demand_scenarios']['dem_scen_1']['fuel_types'] = 'a'\n",
        "                for n in range(len(r_g)):\n",
        "                    inputs['default_kwargs']['terminal_kwargs']['gate_kwargs']['gate_rate'] = r_g[n]\n",
        "                    inputs['default_kwargs']['terminal_kwargs']['gate_kwargs']['gate_rate_sigma'] = r_g[n]*r_g_bound\n",
        "                    periods = [inputs]\n",
        "                    model = Multi_Period_Terminal_System(\n",
        "                            terminal_system_data = terminal_system_data,\n",
        "                            geo_areas = geo_areas,\n",
        "                            periods = periods\n",
        "                            )\n",
        "                    output = model.serialize(minify = True)\n",
        "                    ops_df.loc[q,'Iteration'] = l\n",
        "                    ops_df.loc[q,'Gates'] = n_g[i]\n",
        "                    ops_df.loc[q,'Bays'] = n_b[j]\n",
        "                    ops_df.loc[q,'Station_Dist'] = d[k]\n",
        "                    ops_df.loc[q,'Gate_Time'] = r_g[n]\n",
        "                    ops_df.loc[q,'Flow'] = round((output['0']['statistics']['sum_met_total_demand']),3)\n",
        "                    ops_df.loc[q,'Trips_Per_Truck'] = round((output['0']['statistics']['truck_avg_deliveries_made']),3)\n",
        "                    ops_df.loc[q,'Gate_Queue_Wait'] = round((output['0']['statistics']['trip_avg_in_gate_queue']),3)\n",
        "                    ops_df.loc[q,'Driving_Time'] = round((output['0']['statistics']['truck_avg_to_station'] + output['0']['statistics']['truck_avg_to_terminal_group']),3)\n",
        "                    q = q+1\n",
        "\n",
        "ops_df['Bay_Time'] = r_b\n",
        "ops_df['Truck_Speed'] = v\n",
        "ops_df['Truck_HoS'] = h\n",
        "ops_df['Fleet'] = f\n",
        "\n",
        "ops_df.to_csv('2024-11-13_Gate_Num_Exp1_30iter_Results.csv')"
      ],
      "metadata": {
        "colab": {
          "base_uri": "https://localhost:8080/"
        },
        "id": "LtRFL3Hzu8Q-",
        "outputId": "e5ce6d23-ab37-4a24-9623-2d22f6f7ef49"
      },
      "execution_count": 8,
      "outputs": [
        {
          "output_type": "stream",
          "name": "stderr",
          "text": [
            "  0%|          | 0/3 [00:00<?, ?it/s]\n",
            "  0%|          | 0/15 [00:00<?, ?it/s]\u001b[A\n",
            "  7%|▋         | 1/15 [04:06<57:32, 246.60s/it]\u001b[A\n",
            " 13%|█▎        | 2/15 [08:36<56:21, 260.09s/it]\u001b[A\n",
            " 20%|██        | 3/15 [13:27<54:54, 274.53s/it]\u001b[A\n",
            " 27%|██▋       | 4/15 [18:40<53:06, 289.73s/it]\u001b[A\n",
            " 33%|███▎      | 5/15 [24:12<50:47, 304.71s/it]\u001b[A\n",
            " 40%|████      | 6/15 [29:58<47:48, 318.73s/it]\u001b[A\n",
            " 47%|████▋     | 7/15 [35:53<44:05, 330.68s/it]\u001b[A\n",
            " 53%|█████▎    | 8/15 [41:56<39:46, 340.94s/it]\u001b[A\n",
            " 60%|██████    | 9/15 [48:06<35:01, 350.20s/it]\u001b[A\n",
            " 67%|██████▋   | 10/15 [54:17<29:42, 356.48s/it]\u001b[A\n",
            " 73%|███████▎  | 11/15 [1:00:30<24:06, 361.66s/it]\u001b[A\n",
            " 80%|████████  | 12/15 [1:06:50<18:21, 367.09s/it]\u001b[A\n",
            " 87%|████████▋ | 13/15 [1:13:13<12:23, 371.98s/it]\u001b[A\n",
            " 93%|█████████▎| 14/15 [1:19:39<06:16, 376.08s/it]\u001b[A\n",
            "100%|██████████| 15/15 [1:26:07<00:00, 344.51s/it]\n",
            " 33%|███▎      | 1/3 [1:26:07<2:52:15, 5167.60s/it]\n",
            "  0%|          | 0/15 [00:00<?, ?it/s]\u001b[A\n",
            "  7%|▋         | 1/15 [04:45<1:06:35, 285.37s/it]\u001b[A\n",
            " 13%|█▎        | 2/15 [09:56<1:05:06, 300.53s/it]\u001b[A\n",
            " 20%|██        | 3/15 [15:33<1:03:24, 317.05s/it]\u001b[A\n",
            " 27%|██▋       | 4/15 [21:34<1:01:19, 334.53s/it]\u001b[A\n",
            " 33%|███▎      | 5/15 [27:55<58:31, 351.15s/it]  \u001b[A\n",
            " 40%|████      | 6/15 [34:31<54:57, 366.39s/it]\u001b[A\n",
            " 47%|████▋     | 7/15 [41:21<50:46, 380.87s/it]\u001b[A\n",
            " 53%|█████▎    | 8/15 [48:30<46:12, 396.03s/it]\u001b[A\n",
            " 60%|██████    | 9/15 [55:47<40:53, 408.91s/it]\u001b[A\n",
            " 67%|██████▋   | 10/15 [1:03:17<35:07, 421.56s/it]\u001b[A\n",
            " 73%|███████▎  | 11/15 [1:10:55<28:51, 432.81s/it]\u001b[A\n",
            " 80%|████████  | 12/15 [1:18:35<22:02, 440.91s/it]\u001b[A\n",
            " 87%|████████▋ | 13/15 [1:26:19<14:55, 447.89s/it]\u001b[A\n",
            " 93%|█████████▎| 14/15 [1:34:08<07:34, 454.43s/it]\u001b[A\n",
            "100%|██████████| 15/15 [1:41:57<00:00, 407.81s/it]\n",
            " 67%|██████▋   | 2/3 [3:08:04<1:35:26, 5726.20s/it]\n",
            "  0%|          | 0/15 [00:00<?, ?it/s]\u001b[A\n",
            "  7%|▋         | 1/15 [05:23<1:15:27, 323.39s/it]\u001b[A\n",
            " 13%|█▎        | 2/15 [11:17<1:13:56, 341.31s/it]\u001b[A\n",
            " 20%|██        | 3/15 [17:37<1:11:49, 359.16s/it]\u001b[A\n",
            " 27%|██▋       | 4/15 [24:25<1:09:20, 378.21s/it]\u001b[A\n",
            " 33%|███▎      | 5/15 [31:31<1:05:56, 395.69s/it]\u001b[A\n",
            " 40%|████      | 6/15 [38:57<1:01:54, 412.71s/it]\u001b[A\n",
            " 47%|████▋     | 7/15 [46:36<57:03, 427.95s/it]  \u001b[A\n",
            " 53%|█████▎    | 8/15 [54:25<51:27, 441.00s/it]\u001b[A\n",
            " 60%|██████    | 9/15 [1:02:22<45:12, 452.05s/it]\u001b[A\n",
            " 67%|██████▋   | 10/15 [1:10:29<38:35, 463.04s/it]\u001b[A\n",
            " 73%|███████▎  | 11/15 [1:18:46<31:33, 473.37s/it]\u001b[A\n",
            " 80%|████████  | 12/15 [1:27:16<24:13, 484.56s/it]\u001b[A\n",
            " 87%|████████▋ | 13/15 [1:35:49<16:26, 493.21s/it]\u001b[A\n",
            " 93%|█████████▎| 14/15 [1:44:24<08:19, 499.68s/it]\u001b[A\n",
            "100%|██████████| 15/15 [1:53:07<00:00, 452.47s/it]\n",
            "100%|██████████| 3/3 [5:01:11<00:00, 6023.97s/it]\n"
          ]
        }
      ]
    }
  ]
}