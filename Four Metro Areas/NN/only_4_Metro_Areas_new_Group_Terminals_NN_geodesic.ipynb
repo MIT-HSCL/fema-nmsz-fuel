{
  "nbformat": 4,
  "nbformat_minor": 0,
  "metadata": {
    "colab": {
      "provenance": []
    },
    "kernelspec": {
      "name": "python3",
      "display_name": "Python 3"
    },
    "language_info": {
      "name": "python"
    }
  },
  "cells": [
    {
      "cell_type": "code",
      "execution_count": 1,
      "metadata": {
        "colab": {
          "base_uri": "https://localhost:8080/"
        },
        "id": "B2yNMCmt_EpG",
        "outputId": "f14098ec-2d34-48e4-887e-2a08d5cc15c0"
      },
      "outputs": [
        {
          "output_type": "stream",
          "name": "stdout",
          "text": [
            "Calculating nearest group terminal for each gas station...\n",
            "Results saved to 'gas_stations_with_nearest_terminal.xlsx'.\n"
          ]
        }
      ],
      "source": [
        "import pandas as pd\n",
        "from geopy.distance import geodesic\n",
        "from tqdm import tqdm\n",
        "\n",
        "\n",
        "stations_df = pd.read_excel('gas_stations_list.xlsx')\n",
        "groups_df = pd.read_excel('group_list.xlsx')\n",
        "\n",
        "\n",
        "def find_nearest_terminal(station_row, groups_df):\n",
        "    station_coords = (station_row['station_lat'], station_row['station_long'])\n",
        "    min_distance = float('inf')\n",
        "    nearest_group = {'NN GROUP': None, 'NN LAT': None, 'NN LONG': None, 'NN DISTANCE': None}\n",
        "\n",
        "\n",
        "    for _, group_row in groups_df.iterrows():\n",
        "        group_coords = (group_row['Average of Latitude'], group_row['Average of Longitude'])\n",
        "        distance = geodesic(station_coords, group_coords).miles\n",
        "\n",
        "        if distance < min_distance:\n",
        "            min_distance = distance\n",
        "            nearest_group = {\n",
        "                'NN GROUP': group_row['group_terminals'],\n",
        "                'NN LAT': group_row['Average of Latitude'],\n",
        "                'NN LONG': group_row['Average of Longitude'],\n",
        "                'NN DISTANCE': min_distance\n",
        "            }\n",
        "    return pd.Series(nearest_group)\n",
        "\n",
        "\n",
        "print(\"Calculating nearest group terminal for each gas station...\")\n",
        "results = stations_df.apply(find_nearest_terminal, groups_df=groups_df, axis=1)\n",
        "\n",
        "\n",
        "final_results = pd.concat([stations_df, results], axis=1)\n",
        "\n",
        "\n",
        "final_results.to_excel('gas_stations_with_nearest_terminal.xlsx', index=False)\n",
        "print(\"Results saved to 'gas_stations_with_nearest_terminal.xlsx'.\")\n"
      ]
    }
  ]
}