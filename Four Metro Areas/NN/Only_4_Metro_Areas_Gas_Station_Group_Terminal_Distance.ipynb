{
  "nbformat": 4,
  "nbformat_minor": 0,
  "metadata": {
    "colab": {
      "provenance": []
    },
    "kernelspec": {
      "name": "python3",
      "display_name": "Python 3"
    },
    "language_info": {
      "name": "python"
    }
  },
  "cells": [
    {
      "cell_type": "code",
      "execution_count": null,
      "metadata": {
        "colab": {
          "base_uri": "https://localhost:8080/"
        },
        "id": "qZ1Ae90s61tJ",
        "outputId": "d3c5e552-f3c3-4d57-8611-61b712228cdb"
      },
      "outputs": [
        {
          "output_type": "stream",
          "name": "stdout",
          "text": [
            "Requirement already satisfied: geopy in /usr/local/lib/python3.10/dist-packages (2.4.1)\n",
            "Requirement already satisfied: geographiclib<3,>=1.52 in /usr/local/lib/python3.10/dist-packages (from geopy) (2.0)\n"
          ]
        }
      ],
      "source": [
        "# !pip install geopy"
      ]
    },
    {
      "cell_type": "code",
      "source": [
        "# from geopy.distance import geodesic"
      ],
      "metadata": {
        "id": "j4G7dvjYBT6m"
      },
      "execution_count": null,
      "outputs": []
    },
    {
      "cell_type": "code",
      "source": [
        "# we dont really need geopy since we are using OSRM to calculate actual distance betewen stations and group terminals"
      ],
      "metadata": {
        "id": "IfrieOh4BZQ6"
      },
      "execution_count": null,
      "outputs": []
    },
    {
      "cell_type": "markdown",
      "source": [
        "**CALCULATING DISTANCE**"
      ],
      "metadata": {
        "id": "m16BMwQRKKCX"
      }
    },
    {
      "cell_type": "code",
      "source": [
        "import pandas as pd\n",
        "import numpy as np\n",
        "from scipy import stats\n",
        "import requests\n",
        "import json\n",
        "from tqdm import tqdm\n",
        "from statsmodels.stats.weightstats import DescrStatsW"
      ],
      "metadata": {
        "id": "FfVxquoPaaBU"
      },
      "execution_count": 1,
      "outputs": []
    },
    {
      "cell_type": "code",
      "source": [
        "stations_df = pd.read_excel('Master_Terminals_Stations.xlsx')"
      ],
      "metadata": {
        "id": "J4ArQ-aDKVG2"
      },
      "execution_count": 2,
      "outputs": []
    },
    {
      "cell_type": "code",
      "source": [
        "for i in tqdm(range(len(stations_df))):\n",
        "    r = requests.get(f\"http://router.project-osrm.org/route/v1/car/{stations_df.loc[i, 'station_long']},{stations_df.loc[i, 'station_lat']};{stations_df.loc[i, 'group_long']},{stations_df.loc[i, 'group_lat']}?overview=false\"\"\")\n",
        "    routes = json.loads(r.content)\n",
        "    route_1 = routes.get(\"routes\")[0]\n",
        "    stations_df.iloc[i,8] = route_1['distance']*0.000621371192\n",
        "\n",
        "stations_df.to_csv('updated_distances_without_St_Louis_Python.csv')"
      ],
      "metadata": {
        "colab": {
          "base_uri": "https://localhost:8080/"
        },
        "id": "Dov5FDURbrUe",
        "outputId": "061deb87-76c2-469f-d04c-3ead0ae506f3"
      },
      "execution_count": 3,
      "outputs": [
        {
          "output_type": "stream",
          "name": "stderr",
          "text": [
            "100%|██████████| 5012/5012 [41:58<00:00,  1.99it/s]\n"
          ]
        }
      ]
    },
    {
      "cell_type": "code",
      "source": [
        "# stations_NN_df = pd.read_excel('gas_stations_list_by_NN.xlsx')"
      ],
      "metadata": {
        "id": "R3neU4ePpICy"
      },
      "execution_count": null,
      "outputs": []
    },
    {
      "cell_type": "code",
      "source": [
        "# for i in tqdm(range(len(stations_NN_df))):\n",
        "#     r = requests.get(f\"http://router.project-osrm.org/route/v1/car/{stations_NN_df.loc[i, 'station_long']},{stations_NN_df.loc[i, 'station_lat']};{stations_NN_df.loc[i, 'group_long']},{stations_NN_df.loc[i, 'group_lat']}?overview=false\"\"\")\n",
        "#     routes = json.loads(r.content)\n",
        "#     route_1 = routes.get(\"routes\")[0]\n",
        "#     stations_df.iloc[i,9] = route_1['distance']*0.000621371192\n",
        "\n",
        "# stations_df.to_csv('Stations_NN_DF.csv')"
      ],
      "metadata": {
        "id": "gZZ4o4lYpFdC"
      },
      "execution_count": null,
      "outputs": []
    }
  ]
}