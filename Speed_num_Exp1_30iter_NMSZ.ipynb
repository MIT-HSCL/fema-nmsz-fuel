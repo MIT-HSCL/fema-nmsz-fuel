{
  "nbformat": 4,
  "nbformat_minor": 0,
  "metadata": {
    "colab": {
      "provenance": []
    },
    "kernelspec": {
      "name": "python3",
      "display_name": "Python 3"
    },
    "language_info": {
      "name": "python"
    }
  },
  "cells": [
    {
      "cell_type": "code",
      "execution_count": 1,
      "metadata": {
        "colab": {
          "base_uri": "https://localhost:8080/"
        },
        "id": "VPb1945usGYb",
        "outputId": "8f1bf8cf-7a09-425e-c60d-8cff2beccb6d"
      },
      "outputs": [
        {
          "output_type": "stream",
          "name": "stdout",
          "text": [
            "Collecting pamda\n",
            "  Downloading pamda-2.5.0-py3-none-any.whl.metadata (5.4 kB)\n",
            "Collecting type-enforced>=1.2.0 (from pamda)\n",
            "  Downloading type_enforced-1.7.0-py3-none-any.whl.metadata (11 kB)\n",
            "Downloading pamda-2.5.0-py3-none-any.whl (18 kB)\n",
            "Downloading type_enforced-1.7.0-py3-none-any.whl (12 kB)\n",
            "Installing collected packages: type-enforced, pamda\n",
            "Successfully installed pamda-2.5.0 type-enforced-1.7.0\n"
          ]
        }
      ],
      "source": [
        "!pip install pamda"
      ]
    },
    {
      "cell_type": "code",
      "source": [
        "from google.colab import drive\n",
        "drive.mount('fema-fl-data-SR_Branch')"
      ],
      "metadata": {
        "colab": {
          "base_uri": "https://localhost:8080/"
        },
        "id": "rlf2G9KBsRdV",
        "outputId": "8165998f-5ab0-46b3-ce47-6d72a601b2e9"
      },
      "execution_count": 2,
      "outputs": [
        {
          "output_type": "stream",
          "name": "stdout",
          "text": [
            "Mounted at fema-fl-data-SR_Branch\n"
          ]
        }
      ]
    },
    {
      "cell_type": "code",
      "source": [
        "!pip install /content/fema-fl-data-SR_Branch/MyDrive/GitHub/fema-fl-data-SR_Branch/fema_model"
      ],
      "metadata": {
        "colab": {
          "base_uri": "https://localhost:8080/"
        },
        "id": "wI2bWqvzsXhn",
        "outputId": "b4d1ce25-8638-48ee-e600-b3e49ffcb232"
      },
      "execution_count": 3,
      "outputs": [
        {
          "output_type": "stream",
          "name": "stdout",
          "text": [
            "Processing ./fema-fl-data-SR_Branch/MyDrive/GitHub/fema-fl-data-SR_Branch/fema_model\n",
            "  Preparing metadata (setup.py) ... \u001b[?25l\u001b[?25hdone\n",
            "Collecting pamda==0.0.10 (from fema_model==0.1)\n",
            "  Downloading pamda-0.0.10.tar.gz (9.8 kB)\n",
            "  Preparing metadata (setup.py) ... \u001b[?25l\u001b[?25hdone\n",
            "Building wheels for collected packages: fema_model, pamda\n",
            "  Building wheel for fema_model (setup.py) ... \u001b[?25l\u001b[?25hdone\n",
            "  Created wheel for fema_model: filename=fema_model-0.1-py3-none-any.whl size=11299 sha256=4733e0d324f39e78dcd1a24c2e05980be217bf3c02e7320b4cc235a519b80f75\n",
            "  Stored in directory: /tmp/pip-ephem-wheel-cache-i4v343bo/wheels/e3/fa/91/be2874dba7a6cd1488352befd13bfec88293e3c87af703ad73\n",
            "  Building wheel for pamda (setup.py) ... \u001b[?25l\u001b[?25hdone\n",
            "  Created wheel for pamda: filename=pamda-0.0.10-py3-none-any.whl size=10791 sha256=f91bd496033a908a7c461836935495e9317cfe4c0eb5e730c480845432650ba3\n",
            "  Stored in directory: /root/.cache/pip/wheels/5b/5d/e2/c7497121708bb3d7bab3de1914561fb78b09331b697fed59cc\n",
            "Successfully built fema_model pamda\n",
            "Installing collected packages: pamda, fema_model\n",
            "  Attempting uninstall: pamda\n",
            "    Found existing installation: pamda 2.5.0\n",
            "    Uninstalling pamda-2.5.0:\n",
            "      Successfully uninstalled pamda-2.5.0\n",
            "Successfully installed fema_model-0.1 pamda-0.0.10\n"
          ]
        }
      ]
    },
    {
      "cell_type": "code",
      "source": [
        "import sys\n",
        "sys.path.append('/content/fema-fl-data-SR_Branch/MyDrive/GitHub/fema-fl-data-SR_Branch')\n",
        "import sys\n",
        "sys.path.append('/content/fema-fl-data-SR_Branch/MyDrive/GitHub/fema-fl-data-Dependency_Files')\n",
        "import sys\n",
        "sys.path.append('/content/fema-fl-data-SR_Branch/MyDrive/GitHub/fema-fl-data-main')"
      ],
      "metadata": {
        "id": "-5UvlOiVsewk"
      },
      "execution_count": 4,
      "outputs": []
    },
    {
      "cell_type": "code",
      "source": [
        "from pamda import pamda as p\n",
        "from fema_model import Multi_Period_Terminal_System\n",
        "import pandas as pd\n",
        "import random\n",
        "from tqdm import tqdm\n",
        "import numpy as np\n",
        "from scipy import stats\n",
        "import requests\n",
        "import json\n",
        "from statsmodels.stats.weightstats import DescrStatsW"
      ],
      "metadata": {
        "id": "irJIXMbGskB3"
      },
      "execution_count": 5,
      "outputs": []
    },
    {
      "cell_type": "code",
      "source": [
        "geo_areas = p.read_json('./geo_areas.json')"
      ],
      "metadata": {
        "id": "RTcd6IFyspPx"
      },
      "execution_count": 6,
      "outputs": []
    },
    {
      "cell_type": "code",
      "source": [
        "\n",
        "# Number of gates\n",
        "n_g = [1,2,3]\n",
        "# Number of bays\n",
        "n_b = [1,2,3,4,5,6,7,8,9,10,11,12,13,14,15]\n",
        "# Station distances (miles)\n",
        "d = [25,50,100,150,200,300]\n",
        "# Number of stations\n",
        "S = 250\n",
        "# Bay queue space\n",
        "b_q = 3\n",
        "\n",
        "# Time to empty fuel at station (mins)\n",
        "r_s = 60\n",
        "# Bounds of time to empty fuel at station (mins)\n",
        "r_s_bound = 10\n",
        "# Truck start time max (hrs)\n",
        "a = 6\n",
        "# Truck capacity (gallons)\n",
        "c = 9000\n",
        "# Truck stopping criteria (hr)\n",
        "tau = 0.5\n",
        "\n",
        "# Flexible parameters\n",
        "\n",
        "# Gate check-in time (mins)\n",
        "r_g = 7\n",
        "# Bounds multiplier of gate check-in time (mins)\n",
        "r_g_bound = 0.1\n",
        "# Bay filling time (mins)\n",
        "r_b = 35\n",
        "# Bounds multiplier of bay filling time (mins)\n",
        "r_b_bound = 0.1\n",
        "# Truck speed (mph)\n",
        "v = [25,35,45,55,65,75]\n",
        "# Bounds multiplier of truck speed (mph)\n",
        "v_bound = 0.1\n",
        "# Hours of service (hrs)\n",
        "h = 14\n",
        "# Fleet size (trucks)\n",
        "f = 50\n",
        "\n",
        "# Iterations\n",
        "itrn = 30\n",
        "\n",
        "# Final outputs for all experiments\n",
        "ops_df = pd.DataFrame(columns = ['Iteration', 'Gates', 'Bays', 'Station_Dist', 'Truck_Speed',\\\n",
        "                                 'Flow', 'Trips_Per_Truck', 'Gate_Queue_Wait', 'Driving_Time'])\n",
        "\n",
        "# Input kwargs\n",
        "inputs = {\n",
        "    'carry_over_demand_multiplier':0,\n",
        "    'default_kwargs':{\n",
        "        'demand_situation':'dem_scen_1',\n",
        "        'demand_multiplier':1,\n",
        "        'truck_multiplier':1,\n",
        "        'station_algorithm':'max',\n",
        "        'truck_kwargs':{\n",
        "            'size':c,\n",
        "            # 'speed':45,\n",
        "            # 'speed_sigma':45*v_bound,\n",
        "            'empty_rate':r_s,\n",
        "            'empty_rate_sigma':r_s_bound,\n",
        "            'open_time_min':0,\n",
        "            'open_time_max':a,\n",
        "            'close_time_after_open':h,\n",
        "            'close_early_delta':tau\n",
        "        },\n",
        "        'station_kwargs':{\n",
        "            'open_time':0,\n",
        "            'close_time':24,\n",
        "        },\n",
        "        'terminal_kwargs':{\n",
        "            'gate_kwargs':{\n",
        "                'gate_rate':r_g,\n",
        "                'gate_rate_sigma':r_g*r_g_bound,\n",
        "                'open_time':0,\n",
        "                'close_time':24,\n",
        "                'extra_gates':0,\n",
        "                'max_gate_queue':None, #Infinite\n",
        "                'share_gate_queue_bool':True\n",
        "            },\n",
        "            'bay_kwargs':{\n",
        "                'open_time':0,\n",
        "                'close_time':24,\n",
        "                'fill_rate':r_b,\n",
        "                'fill_rate_sigma':r_b*r_b_bound,\n",
        "                'extra_bays':0,\n",
        "                'max_bay_queue':b_q,\n",
        "                'share_bay_queue_bool':True\n",
        "            }\n",
        "        }\n",
        "    }\n",
        "}\n",
        "\n",
        "# Create terminal system dictionary\n",
        "terminal_system_data = {}\n",
        "terminal_system_data['group1'] = {}\n",
        "terminal_system_data['group1']['trucks_available'] = f\n",
        "terminal_system_data['group1']['terminals'] = {}\n",
        "terminal_system_data['group1']['terminals']['terminal1'] = {}\n",
        "terminal_system_data['group1']['terminals']['terminal1']['fuel_types'] = 'a'\n",
        "\n",
        "# Index of ops_df\n",
        "q = 0\n",
        "\n",
        "for i in tqdm(range(len(n_g))):\n",
        "    terminal_system_data['group1']['terminals']['terminal1']['num_gates'] = n_g[i]\n",
        "    for j in tqdm(range(len(n_b))):\n",
        "        terminal_system_data['group1']['terminals']['terminal1']['num_bays'] = n_b[j]\n",
        "        for k in range(len(d)):\n",
        "            for l in range(itrn):\n",
        "                # Create stations list\n",
        "                terminal_system_data['group1']['stations'] = {}\n",
        "                for m in range(S):\n",
        "                    station_name = 's'+str(m)\n",
        "                    terminal_system_data['group1']['stations'][station_name] = {}\n",
        "                    terminal_system_data['group1']['stations'][station_name]['travel_distance'] = round(random.uniform(0.01,d[k]),3)\n",
        "                    terminal_system_data['group1']['stations'][station_name]['geo_code'] = '1'\n",
        "                    terminal_system_data['group1']['stations'][station_name]['demand_scenarios'] = {}\n",
        "                    terminal_system_data['group1']['stations'][station_name]['demand_scenarios']['dem_scen_1'] = {}\n",
        "                    terminal_system_data['group1']['stations'][station_name]['demand_scenarios']['dem_scen_1']['demand'] = c\n",
        "                    terminal_system_data['group1']['stations'][station_name]['demand_scenarios']['dem_scen_1']['fuel_types'] = 'a'\n",
        "                for n in range(len(v)):\n",
        "                    inputs['default_kwargs']['truck_kwargs']['speed'] = v[n]\n",
        "                    inputs['default_kwargs']['truck_kwargs']['speed_sigma'] = v[n]*v_bound\n",
        "                    periods = [inputs]\n",
        "                    model = Multi_Period_Terminal_System(\n",
        "                            terminal_system_data = terminal_system_data,\n",
        "                            geo_areas = geo_areas,\n",
        "                            periods = periods\n",
        "                            )\n",
        "                    output = model.serialize(minify = True)\n",
        "                    ops_df.loc[q,'Iteration'] = l\n",
        "                    ops_df.loc[q,'Gates'] = n_g[i]\n",
        "                    ops_df.loc[q,'Bays'] = n_b[j]\n",
        "                    ops_df.loc[q,'Station_Dist'] = d[k]\n",
        "                    ops_df.loc[q,'Truck_Speed'] = v[n]\n",
        "                    ops_df.loc[q,'Flow'] = round((output['0']['statistics']['sum_met_total_demand']),3)\n",
        "                    ops_df.loc[q,'Trips_Per_Truck'] = round((output['0']['statistics']['truck_avg_deliveries_made']),3)\n",
        "                    ops_df.loc[q,'Gate_Queue_Wait'] = round((output['0']['statistics']['trip_avg_in_gate_queue']),3)\n",
        "                    ops_df.loc[q,'Driving_Time'] = round((output['0']['statistics']['truck_avg_to_station'] + output['0']['statistics']['truck_avg_to_terminal_group']),3)\n",
        "                    q = q+1\n",
        "\n",
        "ops_df['Gate_Time'] = r_g\n",
        "ops_df['Bay_Time'] = r_b\n",
        "ops_df['Truck_HoS'] = h\n",
        "ops_df['Fleet'] = f\n",
        "\n",
        "ops_df.to_csv('2024-11-13_Speed_Num_Exp_30iter_Results.csv')"
      ],
      "metadata": {
        "colab": {
          "base_uri": "https://localhost:8080/"
        },
        "id": "Xzdixvk7ssJy",
        "outputId": "a2983ae4-ab3d-4483-9207-e77aca57be52"
      },
      "execution_count": 7,
      "outputs": [
        {
          "output_type": "stream",
          "name": "stderr",
          "text": [
            "  0%|          | 0/3 [00:00<?, ?it/s]\n",
            "  0%|          | 0/15 [00:00<?, ?it/s]\u001b[A\n",
            "  7%|▋         | 1/15 [01:21<19:01, 81.55s/it]\u001b[A\n",
            " 13%|█▎        | 2/15 [02:43<17:45, 81.99s/it]\u001b[A\n",
            " 20%|██        | 3/15 [04:17<17:28, 87.41s/it]\u001b[A\n",
            " 27%|██▋       | 4/15 [06:01<17:10, 93.70s/it]\u001b[A\n",
            " 33%|███▎      | 5/15 [07:54<16:49, 100.95s/it]\u001b[A\n",
            " 40%|████      | 6/15 [09:52<15:58, 106.54s/it]\u001b[A\n",
            " 47%|████▋     | 7/15 [11:51<14:45, 110.73s/it]\u001b[A\n",
            " 53%|█████▎    | 8/15 [13:52<13:16, 113.83s/it]\u001b[A\n",
            " 60%|██████    | 9/15 [15:51<11:34, 115.67s/it]\u001b[A\n",
            " 67%|██████▋   | 10/15 [17:53<09:47, 117.52s/it]\u001b[A\n",
            " 73%|███████▎  | 11/15 [19:54<07:53, 118.45s/it]\u001b[A\n",
            " 80%|████████  | 12/15 [21:55<05:58, 119.37s/it]\u001b[A\n",
            " 87%|████████▋ | 13/15 [23:58<04:00, 120.47s/it]\u001b[A\n",
            " 93%|█████████▎| 14/15 [26:02<02:01, 121.49s/it]\u001b[A\n",
            "100%|██████████| 15/15 [28:05<00:00, 112.37s/it]\n",
            " 33%|███▎      | 1/3 [28:05<56:11, 1685.57s/it]\n",
            "  0%|          | 0/15 [00:00<?, ?it/s]\u001b[A\n",
            "  7%|▋         | 1/15 [01:24<19:44, 84.61s/it]\u001b[A\n",
            " 13%|█▎        | 2/15 [03:01<19:53, 91.80s/it]\u001b[A\n",
            " 20%|██        | 3/15 [04:47<19:42, 98.50s/it]\u001b[A\n",
            " 27%|██▋       | 4/15 [06:45<19:25, 105.95s/it]\u001b[A\n",
            " 33%|███▎      | 5/15 [08:50<18:49, 112.93s/it]\u001b[A\n",
            " 40%|████      | 6/15 [11:05<18:03, 120.38s/it]\u001b[A\n",
            " 47%|████▋     | 7/15 [13:24<16:52, 126.55s/it]\u001b[A\n",
            " 53%|█████▎    | 8/15 [15:52<15:33, 133.37s/it]\u001b[A\n",
            " 60%|██████    | 9/15 [18:23<13:52, 138.72s/it]\u001b[A\n",
            " 67%|██████▋   | 10/15 [21:00<12:01, 144.37s/it]\u001b[A\n",
            " 73%|███████▎  | 11/15 [23:39<09:55, 148.98s/it]\u001b[A\n",
            " 80%|████████  | 12/15 [26:19<07:37, 152.43s/it]\u001b[A\n",
            " 87%|████████▋ | 13/15 [29:03<05:11, 155.70s/it]\u001b[A\n",
            " 93%|█████████▎| 14/15 [31:44<02:37, 157.44s/it]\u001b[A\n",
            "100%|██████████| 15/15 [34:29<00:00, 137.94s/it]\n",
            " 67%|██████▋   | 2/3 [1:02:34<31:51, 1911.15s/it]\n",
            "  0%|          | 0/15 [00:00<?, ?it/s]\u001b[A\n",
            "  7%|▋         | 1/15 [01:36<22:30, 96.48s/it]\u001b[A\n",
            " 13%|█▎        | 2/15 [03:26<22:38, 104.48s/it]\u001b[A\n",
            " 20%|██        | 3/15 [05:27<22:23, 111.95s/it]\u001b[A\n",
            " 27%|██▋       | 4/15 [07:37<21:51, 119.19s/it]\u001b[A\n",
            " 33%|███▎      | 5/15 [09:54<20:54, 125.50s/it]\u001b[A\n",
            " 40%|████      | 6/15 [12:19<19:48, 132.04s/it]\u001b[A\n",
            " 47%|████▋     | 7/15 [14:50<18:26, 138.28s/it]\u001b[A\n",
            " 53%|█████▎    | 8/15 [17:27<16:49, 144.23s/it]\u001b[A\n",
            " 60%|██████    | 9/15 [20:09<14:58, 149.75s/it]\u001b[A\n",
            " 67%|██████▋   | 10/15 [22:55<12:54, 154.94s/it]\u001b[A\n",
            " 73%|███████▎  | 11/15 [25:46<10:39, 159.77s/it]\u001b[A\n",
            " 80%|████████  | 12/15 [28:39<08:11, 163.86s/it]\u001b[A\n",
            " 87%|████████▋ | 13/15 [31:36<05:35, 167.74s/it]\u001b[A\n",
            " 93%|█████████▎| 14/15 [34:34<02:50, 170.84s/it]\u001b[A\n",
            "100%|██████████| 15/15 [37:33<00:00, 150.26s/it]\n",
            "100%|██████████| 3/3 [1:40:08<00:00, 2002.84s/it]\n"
          ]
        }
      ]
    }
  ]
}