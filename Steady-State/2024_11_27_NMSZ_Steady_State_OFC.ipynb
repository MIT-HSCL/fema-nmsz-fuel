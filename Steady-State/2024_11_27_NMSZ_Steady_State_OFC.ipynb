{
  "nbformat": 4,
  "nbformat_minor": 0,
  "metadata": {
    "colab": {
      "provenance": []
    },
    "kernelspec": {
      "name": "python3",
      "display_name": "Python 3"
    },
    "language_info": {
      "name": "python"
    }
  },
  "cells": [
    {
      "cell_type": "code",
      "execution_count": 8,
      "metadata": {
        "id": "fxWWzEy1m3B9"
      },
      "outputs": [],
      "source": [
        "import pandas as pd\n",
        "import numpy as np\n",
        "import scipy.stats as sp"
      ]
    },
    {
      "cell_type": "code",
      "source": [
        "def analytical_ofc(h = 14, r_g = 7, r_b = 35, v = 45, r_s = 60, d = 0, f = 0, n_g = [0], n_b = [0]):\n",
        "    c = 0.009\n",
        "    x1 = 0\n",
        "    for i in range(len(n_g)):\n",
        "        x1 = x1 + (1/((r_g/n_g[i])+(r_b/n_b[i])+(2*60*d/v)+(r_s)))\n",
        "    ofc1 =(f*c*h*60)*x1\n",
        "    ofc2 = 0\n",
        "    for i in range(len(n_g)):\n",
        "        ofc2 = ofc2 + ((24*60*c)/((r_g/n_g[i])+(r_b/n_b[i])))\n",
        "    return min(ofc1, ofc2)"
      ],
      "metadata": {
        "id": "74J0U4lXnCP1"
      },
      "execution_count": 9,
      "outputs": []
    },
    {
      "cell_type": "code",
      "source": [
        "df_term = pd.read_excel('NMSZ_Terminals.xlsx')\n",
        "df_group = pd.read_excel('NMSZ_Groups.xlsx')\n",
        "groups = df_group['group_name'].unique()"
      ],
      "metadata": {
        "id": "8B6eb4gqvKNw"
      },
      "execution_count": 10,
      "outputs": []
    },
    {
      "cell_type": "code",
      "source": [
        "for i in range(len(groups)):\n",
        "    gates = df_term[df_term['group_name'] == groups[i]]['num_gates'].values\n",
        "    bays = df_term[df_term['group_name'] == groups[i]]['num_bays'].values\n",
        "    trucks = df_group[df_group['group_name'] == groups[i]]['trucks'].values[0]\n",
        "    avg_dist = df_group[df_group['group_name'] == groups[i]]['avg_dist'].values[0]\n",
        "    print(groups[i])\n",
        "    print(analytical_ofc(f = trucks, d = avg_dist, n_g = gates, n_b = bays))"
      ],
      "metadata": {
        "colab": {
          "base_uri": "https://localhost:8080/"
        },
        "id": "SuvC4n_qvpwb",
        "outputId": "6b0453bf-8ddb-4bc1-bfc9-e9f3b57d0db2"
      },
      "execution_count": 11,
      "outputs": [
        {
          "output_type": "stream",
          "name": "stdout",
          "text": [
            "Cape Girardeau\n",
            "1.5388497217068644\n",
            "Evansville\n",
            "4.033469387755102\n",
            "Greenville\n",
            "1.223265306122449\n",
            "Jonesboro\n",
            "1.3885714285714286\n",
            "Little Rock\n",
            "6.424578527062998\n",
            "Memphis\n",
            "4.15469387755102\n",
            "Owensboro\n",
            "1.3518367346938776\n",
            "Paducah\n",
            "1.0579591836734694\n",
            "Princeton\n",
            "0.5289795918367347\n",
            "Robinson\n",
            "1.3518367346938776\n",
            "St. Louis\n",
            "4.455918367346938\n",
            "Wood River\n",
            "4.051836734693877\n"
          ]
        }
      ]
    }
  ]
}